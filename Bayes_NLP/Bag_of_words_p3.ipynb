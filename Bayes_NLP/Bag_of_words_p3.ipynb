{
 "cells": [
  {
   "cell_type": "markdown",
   "metadata": {},
   "source": [
    "## Numerical Representations of Words\n",
    "The Word2Vec model trained in Part2 consists of a feature vector for each word in the vocabulary, stored in a numpy array called 'syn0'.\n",
    "\n",
    "Ref: https://www.kaggle.com/c/word2vec-nlp-tutorial/details/part-3-more-fun-with-word-vectors"
   ]
  },
  {
   "cell_type": "code",
   "execution_count": 2,
   "metadata": {
    "collapsed": true
   },
   "outputs": [],
   "source": [
    "#Load the model that we created in Part2\n",
    "from gensim.models import Word2Vec\n",
    "model = Word2Vec.load('300features_40minwords_10context')\n"
   ]
  },
  {
   "cell_type": "code",
   "execution_count": 3,
   "metadata": {
    "collapsed": false
   },
   "outputs": [
    {
     "data": {
      "text/plain": [
       "numpy.ndarray"
      ]
     },
     "execution_count": 3,
     "metadata": {},
     "output_type": "execute_result"
    }
   ],
   "source": [
    "type(model.syn0)"
   ]
  },
  {
   "cell_type": "code",
   "execution_count": 4,
   "metadata": {
    "collapsed": false
   },
   "outputs": [
    {
     "data": {
      "text/plain": [
       "(16731, 300)"
      ]
     },
     "execution_count": 4,
     "metadata": {},
     "output_type": "execute_result"
    }
   ],
   "source": [
    "model.syn0.shape"
   ]
  },
  {
   "cell_type": "markdown",
   "metadata": {},
   "source": [
    "Setting the minimum word count to 40 gave us a total vocabulary of 16731 words with 300 feature apiece."
   ]
  },
  {
   "cell_type": "code",
   "execution_count": 5,
   "metadata": {
    "collapsed": false
   },
   "outputs": [
    {
     "data": {
      "text/plain": [
       "array([  7.03130066e-02,   5.14342189e-02,  -3.80656198e-02,\n",
       "         4.53658774e-02,  -2.73839328e-02,  -5.64631633e-02,\n",
       "         3.78377177e-02,   5.36779314e-02,   4.48896326e-02,\n",
       "        -4.83323680e-03,   5.59773184e-02,  -8.08055792e-03,\n",
       "         1.10543892e-01,  -1.57461375e-01,   1.12796193e-02,\n",
       "        -9.08770263e-02,  -1.11438870e-01,   2.28472278e-02,\n",
       "         4.86316085e-02,  -3.51550207e-02,  -4.96995123e-03,\n",
       "        -5.61099909e-02,   5.66338301e-02,   5.45456521e-02,\n",
       "         4.19501700e-02,   9.22863465e-03,  -2.02877950e-02,\n",
       "         3.95046510e-02,  -7.24636689e-02,   1.89160760e-02,\n",
       "        -8.77127126e-02,   4.20929427e-04,   4.82679084e-02,\n",
       "        -1.74988247e-02,  -1.67242736e-02,  -9.87018719e-02,\n",
       "         1.22327253e-01,  -3.90022546e-02,   1.57671347e-02,\n",
       "        -3.52325179e-02,  -3.57532203e-02,  -6.47378862e-02,\n",
       "        -6.03422076e-02,   7.79911061e-04,  -5.47066629e-02,\n",
       "        -4.79701161e-02,   6.14088178e-02,   6.47710450e-03,\n",
       "         4.84411418e-02,  -1.02251150e-01,  -5.14693521e-02,\n",
       "         2.08573639e-02,   3.83124240e-02,  -4.90305908e-02,\n",
       "        -1.21902779e-01,   6.68842420e-02,  -7.84767568e-02,\n",
       "         2.19625626e-02,  -3.68319564e-02,  -1.01456024e-01,\n",
       "        -1.92087144e-02,  -6.16100319e-02,  -1.15389116e-02,\n",
       "        -7.46813342e-02,   4.31341194e-02,   2.99871229e-02,\n",
       "        -1.01191707e-01,   9.28780250e-03,  -6.12942223e-03,\n",
       "         3.54026482e-02,   9.98931229e-02,  -1.12446867e-01,\n",
       "        -2.66753063e-02,  -1.12034287e-02,  -3.45057100e-02,\n",
       "        -1.30657712e-02,   3.69038582e-02,  -5.40064573e-02,\n",
       "        -1.06723957e-01,   5.38257882e-02,   1.77186262e-02,\n",
       "        -5.83369611e-03,  -8.68106727e-03,   5.83845712e-02,\n",
       "         3.18158269e-02,  -3.88022698e-02,  -1.22979414e-02,\n",
       "        -3.61937843e-02,  -2.48913001e-02,   9.77933556e-02,\n",
       "        -6.23166002e-03,  -5.71807650e-05,  -1.30643090e-02,\n",
       "        -3.40169040e-03,   3.67879197e-02,  -5.36188819e-02,\n",
       "         5.66275604e-02,   2.59926151e-02,   5.10198344e-03,\n",
       "         6.48443261e-03,   7.54711330e-02,  -9.70278606e-02,\n",
       "        -2.90508103e-03,  -2.13160664e-02,  -2.52483003e-02,\n",
       "         7.59740546e-02,  -5.14978915e-02,   3.73954475e-02,\n",
       "        -3.05380262e-02,  -3.86265703e-02,   2.98015717e-02,\n",
       "        -6.15465939e-02,  -6.30135611e-02,  -4.60471399e-02,\n",
       "         9.34637785e-02,  -5.91843463e-02,  -7.26033524e-02,\n",
       "         3.42966127e-03,  -6.74763368e-03,  -3.56735401e-02,\n",
       "        -3.76006961e-02,   9.19296686e-03,  -1.03246570e-01,\n",
       "         5.46285976e-03,  -5.06362021e-02,   1.15232117e-01,\n",
       "        -2.79395580e-02,  -2.33009700e-02,   7.24053755e-02,\n",
       "         1.92860533e-02,  -1.92208216e-02,  -2.87313219e-02,\n",
       "        -1.65098552e-02,   8.97781476e-02,  -7.57916421e-02,\n",
       "        -3.40156481e-02,   7.08153844e-02,  -3.16764712e-02,\n",
       "        -9.83818471e-02,   9.35646612e-03,   1.42199323e-01,\n",
       "        -2.92214099e-02,   5.87643981e-02,   1.97366765e-03,\n",
       "         1.75131205e-02,  -2.54400540e-02,   8.89622699e-03,\n",
       "        -1.87183041e-02,  -8.16069543e-03,  -3.87758203e-02,\n",
       "        -9.41918977e-03,  -4.01161164e-02,   9.74727720e-02,\n",
       "         7.16964304e-02,  -7.24579170e-02,   2.53513046e-02,\n",
       "        -7.74498191e-03,   2.94247493e-02,  -4.51489687e-02,\n",
       "         2.17690766e-02,   7.63547122e-02,   3.01066618e-02,\n",
       "         6.64367303e-02,   7.35046342e-02,  -6.98614120e-02,\n",
       "         7.04454482e-02,  -3.95127237e-02,  -2.36056168e-02,\n",
       "         1.58137141e-03,   1.98526084e-02,  -3.88359465e-02,\n",
       "        -4.45419252e-02,   5.79964183e-02,  -8.28975067e-03,\n",
       "         2.77455430e-02,   8.16244259e-02,  -1.36517420e-01,\n",
       "        -1.46508766e-02,  -1.77928507e-02,  -4.54535941e-03,\n",
       "        -2.71364823e-02,  -3.48004214e-02,  -4.04252950e-03,\n",
       "         1.04459435e-01,   4.61102054e-02,  -3.60252261e-02,\n",
       "         7.28587061e-02,   9.52769890e-02,   4.90563177e-02,\n",
       "        -1.46386540e-02,   5.13879992e-02,  -1.34374097e-01,\n",
       "         7.74268433e-02,   4.07052748e-02,   8.27876478e-03,\n",
       "        -4.86177951e-02,  -4.05079983e-02,   9.76103172e-02,\n",
       "        -1.58114601e-02,   8.02994221e-02,   1.71816740e-02,\n",
       "        -9.90103707e-02,  -3.13963331e-02,   9.91353095e-02,\n",
       "        -1.04645699e-01,   5.28872721e-02,   2.89478991e-02,\n",
       "        -4.36774045e-02,  -1.87642071e-02,  -1.13743395e-02,\n",
       "         8.60924050e-02,   1.11001939e-01,  -3.95166539e-02,\n",
       "        -4.42788191e-02,  -2.47175284e-02,   6.31233975e-02,\n",
       "         1.27025664e-01,  -7.97501206e-02,  -2.24080328e-02,\n",
       "         2.45970730e-02,   3.05656111e-03,  -3.37754078e-02,\n",
       "        -1.01867029e-02,  -5.42885698e-02,   1.73954908e-02,\n",
       "        -3.00271697e-02,  -1.89136416e-02,   1.49688527e-01,\n",
       "         1.87082570e-02,   5.41855693e-02,  -4.37289812e-02,\n",
       "        -5.16271964e-02,  -9.70680639e-02,   3.98157106e-04,\n",
       "        -2.45910827e-02,  -4.27371003e-02,   1.05385438e-01,\n",
       "         1.19141731e-02,   4.14232388e-02,  -1.99698601e-02,\n",
       "         1.55839808e-02,   1.58759914e-02,   3.71990837e-02,\n",
       "        -7.70967454e-02,   4.13867831e-02,  -6.19249083e-02,\n",
       "        -2.22340766e-02,  -1.05453305e-01,   7.63361296e-03,\n",
       "         5.35359606e-02,  -9.48230326e-02,   2.42413059e-02,\n",
       "        -1.97149720e-03,  -5.13897277e-03,  -9.12161767e-02,\n",
       "        -1.62392631e-02,   1.92097798e-02,  -1.19870109e-03,\n",
       "        -1.58275347e-02,  -1.98459458e-02,  -1.38192624e-01,\n",
       "        -3.48969065e-02,  -8.19867700e-02,   3.80624719e-02,\n",
       "        -8.84914175e-02,   4.18120213e-02,  -8.35340843e-02,\n",
       "         8.13708156e-02,  -6.51324466e-02,  -4.82118651e-02,\n",
       "         1.09524511e-01,   9.32664722e-02,   6.54962808e-02,\n",
       "        -7.88417831e-02,   3.15171853e-02,   3.40488441e-02,\n",
       "        -3.56952660e-02,  -2.65030768e-02,   1.09306060e-01,\n",
       "         1.13428216e-02,  -2.59153750e-02,   3.62109505e-02,\n",
       "        -3.36532108e-02,   9.17072967e-02,  -1.94435529e-02,\n",
       "        -1.43339485e-01,   5.15572727e-02,  -5.70640154e-02,\n",
       "        -9.05067325e-02,   8.53115343e-04,  -1.94201786e-02,\n",
       "         2.39143111e-02,   1.36649646e-02,  -1.55446993e-03,\n",
       "        -5.48600927e-02,  -2.76224874e-02,  -4.27853279e-02,\n",
       "        -1.10294074e-02,   7.80548155e-02,  -3.25932503e-02], dtype=float32)"
      ]
     },
     "execution_count": 5,
     "metadata": {},
     "output_type": "execute_result"
    }
   ],
   "source": [
    "# access individual word vectors\n",
    "model['flower']"
   ]
  },
  {
   "cell_type": "markdown",
   "metadata": {},
   "source": [
    "## From Words to Paragraohs, Attempt1: Vector Averaging\n",
    "Fisrt, we need to take individual word vectors and transform them into a feature set that is the same length for every review. Since each word is a vector in 300-dimensional space, we can use vector operations to combine the words in each review. One method is to simply average the word vectors in a given review (for this purpose, we removed stop words, which would just add noise)."
   ]
  },
  {
   "cell_type": "code",
   "execution_count": 6,
   "metadata": {
    "collapsed": false
   },
   "outputs": [],
   "source": [
    "import numpy as np \n",
    "def makeFeatureVec(words,model,num_features):\n",
    "    #Function to average all of the word vectors in a given paragraph\n",
    "    #Pre-initialize an empty numpy array (for speed)\n",
    "    featureVec= np.zeros((num_features,),dtype='float32')\n",
    "    nwords=0\n",
    "    #Index2word is a list that contains the names of the words in the model's vocabulary. Convert it to a set, for speed\n",
    "    index2word_set=set(model.index2word)\n",
    "    #Loop over each word in the review and, if it is in the model's vocabulary, and its feature vector to the total\n",
    "    for word in words:\n",
    "        if word in index2word_set:\n",
    "            nwords+=1\n",
    "            featureVec=np.add(featureVec,model[word])\n",
    "    #Divide the result by the number of words to get the average\n",
    "    featureVec =np.divide(featureVec,nwords)\n",
    "    return featureVec\n",
    "def getAvgFeatureVecs(reviews,model,num_features):\n",
    "    #Given a set of reviews (each one a list of words), calculate the average feature vector for each one and return a 2D numpy array\n",
    "    #Initialize a counter\n",
    "    counter =0\n",
    "    #Preallocate a 2D numpy array, for speed\n",
    "    reviewFeatureVecs =np.zeros((len(reviews),num_features),dtype='float32')\n",
    "    #Loop through the reviews\n",
    "    for review in reviews:\n",
    "        #print a status message every 1000th review\n",
    "        if counter%1000.==0.:\n",
    "            print (\"Review %d of %d\" %(counter, len(reviews)))\n",
    "        #Call the function (defined above), that makes avearge feature vectors \n",
    "        reviewFeatureVecs[counter]=makeFeatureVec(review,model,num_features)\n",
    "        #Increment the counter\n",
    "        counter+=1\n",
    "    return reviewFeatureVecs"
   ]
  },
  {
   "cell_type": "markdown",
   "metadata": {},
   "source": [
    "**Recall Bag_of_words_p2**"
   ]
  },
  {
   "cell_type": "code",
   "execution_count": 7,
   "metadata": {
    "collapsed": true
   },
   "outputs": [],
   "source": [
    "import pandas as pd\n",
    "\n",
    "# Read data from files\n",
    "train=pd.read_csv(\"labeledTrainData.tsv\", header=0, delimiter=\"\\t\",quoting=3)\n",
    "test=pd.read_csv(\"testData.tsv\", header=0, delimiter=\"\\t\",quoting=3)\n",
    "unlabeled_train=pd.read_csv(\"unlabeledTrainData.tsv\",header=0,delimiter=\"\\t\",quoting=3)\n",
    "\n",
    "# Import various modules for string cleaning \n",
    "from bs4 import BeautifulSoup\n",
    "import re\n",
    "from nltk.corpus import stopwords\n",
    "\n",
    "def review_to_wordlist(review,remove_stopwords=False):\n",
    "    # Function to convert a document to a sequence of words,\n",
    "    # optionally removing stop words. Returns a list of words.\n",
    "    # 1. Remove HTML\n",
    "    review_text=BeautifulSoup(review,\"html\").get_text()\n",
    "    # 2. Remove non-letters, keep numbers\n",
    "    review_text=re.sub(\"[^a-zA-Z0-9]\",\" \",review_text)\n",
    "    # 3. Convert words in lower case and split them\n",
    "    words=review_text.lower().split()\n",
    "    # 4. Optionally remove stop words (false by default)\n",
    "    if remove_stopwords:\n",
    "        stops=set(stopwords.words(\"english\"))\n",
    "        words=[w for w in words if not w in stops]\n",
    "    # 5. return a list of words\n",
    "    return(words)"
   ]
  },
  {
   "cell_type": "code",
   "execution_count": 8,
   "metadata": {
    "collapsed": false
   },
   "outputs": [
    {
     "name": "stderr",
     "output_type": "stream",
     "text": [
      "/home/amywu/anaconda3/lib/python2.7/site-packages/bs4/__init__.py:166: UserWarning: No parser was explicitly specified, so I'm using the best available HTML parser for this system (\"lxml\"). This usually isn't a problem, but if you run this code on another system, or in a different virtual environment, it may use a different parser and behave differently.\n",
      "\n",
      "To get rid of this warning, change this:\n",
      "\n",
      " BeautifulSoup([your markup])\n",
      "\n",
      "to this:\n",
      "\n",
      " BeautifulSoup([your markup], \"lxml\")\n",
      "\n",
      "  markup_type=markup_type))\n"
     ]
    },
    {
     "name": "stdout",
     "output_type": "stream",
     "text": [
      "Review 0 of 25000\n",
      "Review 1000 of 25000\n",
      "Review 2000 of 25000\n",
      "Review 3000 of 25000\n",
      "Review 4000 of 25000\n",
      "Review 5000 of 25000\n",
      "Review 6000 of 25000\n",
      "Review 7000 of 25000\n",
      "Review 8000 of 25000\n",
      "Review 9000 of 25000\n",
      "Review 10000 of 25000\n",
      "Review 11000 of 25000\n",
      "Review 12000 of 25000\n",
      "Review 13000 of 25000\n",
      "Review 14000 of 25000\n",
      "Review 15000 of 25000\n",
      "Review 16000 of 25000\n",
      "Review 17000 of 25000\n",
      "Review 18000 of 25000\n",
      "Review 19000 of 25000\n",
      "Review 20000 of 25000\n",
      "Review 21000 of 25000\n",
      "Review 22000 of 25000\n",
      "Review 23000 of 25000\n",
      "Review 24000 of 25000\n",
      "Creating average feature vecs for test reviews\n",
      "Review 0 of 25000\n",
      "Review 1000 of 25000\n",
      "Review 2000 of 25000\n",
      "Review 3000 of 25000\n",
      "Review 4000 of 25000\n",
      "Review 5000 of 25000\n",
      "Review 6000 of 25000\n",
      "Review 7000 of 25000\n",
      "Review 8000 of 25000\n",
      "Review 9000 of 25000\n",
      "Review 10000 of 25000\n",
      "Review 11000 of 25000\n",
      "Review 12000 of 25000\n",
      "Review 13000 of 25000\n",
      "Review 14000 of 25000\n",
      "Review 15000 of 25000\n",
      "Review 16000 of 25000\n",
      "Review 17000 of 25000\n",
      "Review 18000 of 25000\n",
      "Review 19000 of 25000\n",
      "Review 20000 of 25000\n",
      "Review 21000 of 25000\n",
      "Review 22000 of 25000\n",
      "Review 23000 of 25000\n",
      "Review 24000 of 25000\n"
     ]
    }
   ],
   "source": [
    "# Calculate average feature vectors for training and testing sets. Notice stop word is removed\n",
    "num_features=300\n",
    "\n",
    "clean_train_reviews=[]\n",
    "for review in train['review']:\n",
    "    clean_train_reviews.append(review_to_wordlist(review,remove_stopwords=True)\n",
    "    )\n",
    "trainDataVecs=getAvgFeatureVecs(clean_train_reviews,model,num_features)\n",
    "\n",
    "print('Creating average feature vecs for test reviews')\n",
    "clean_test_reviews=[]\n",
    "for review in test['review']:\n",
    "    clean_test_reviews.append(review_to_wordlist(review,remove_stopwords=True)\n",
    "    )\n",
    "testDataVecs=getAvgFeatureVecs(clean_test_reviews,model,num_features)"
   ]
  },
  {
   "cell_type": "markdown",
   "metadata": {},
   "source": [
    "Next, use the average paragraph vectors to train a random forest. Note that, as in part1, we can only use the labeled training reviews to train the model."
   ]
  },
  {
   "cell_type": "code",
   "execution_count": 9,
   "metadata": {
    "collapsed": false
   },
   "outputs": [
    {
     "name": "stdout",
     "output_type": "stream",
     "text": [
      "Fitting a random forest to labeled traning data...\n"
     ]
    }
   ],
   "source": [
    "#Fit a random forest to the training data, using 100 trees\n",
    "from sklearn.ensemble import RandomForestClassifier\n",
    "forest=RandomForestClassifier(n_estimators=100)\n",
    "\n",
    "print('Fitting a random forest to labeled traning data...')\n",
    "forest=forest.fit(trainDataVecs,train['sentiment'])\n",
    "\n",
    "#Test and extract results\n",
    "result = forest.predict(testDataVecs)\n",
    "\n",
    "#Write the test results\n",
    "output=pd.DataFrame(data={'id':test['id'],'sentiment':result})\n",
    "output.to_csv('Word2Vec_AverageVectors.csv',index=False,quoting=3)\n"
   ]
  },
  {
   "cell_type": "code",
   "execution_count": 12,
   "metadata": {
    "collapsed": true
   },
   "outputs": [],
   "source": [
    "pred=pd.read_csv('Word2Vec_AverageVectors.csv')"
   ]
  },
  {
   "cell_type": "code",
   "execution_count": 13,
   "metadata": {
    "collapsed": false
   },
   "outputs": [
    {
     "data": {
      "text/html": [
       "<div>\n",
       "<table border=\"1\" class=\"dataframe\">\n",
       "  <thead>\n",
       "    <tr style=\"text-align: right;\">\n",
       "      <th></th>\n",
       "      <th>id</th>\n",
       "      <th>sentiment</th>\n",
       "    </tr>\n",
       "  </thead>\n",
       "  <tbody>\n",
       "    <tr>\n",
       "      <th>0</th>\n",
       "      <td>12311_10</td>\n",
       "      <td>1</td>\n",
       "    </tr>\n",
       "    <tr>\n",
       "      <th>1</th>\n",
       "      <td>8348_2</td>\n",
       "      <td>0</td>\n",
       "    </tr>\n",
       "    <tr>\n",
       "      <th>2</th>\n",
       "      <td>5828_4</td>\n",
       "      <td>1</td>\n",
       "    </tr>\n",
       "    <tr>\n",
       "      <th>3</th>\n",
       "      <td>7186_2</td>\n",
       "      <td>0</td>\n",
       "    </tr>\n",
       "    <tr>\n",
       "      <th>4</th>\n",
       "      <td>12128_7</td>\n",
       "      <td>1</td>\n",
       "    </tr>\n",
       "  </tbody>\n",
       "</table>\n",
       "</div>"
      ],
      "text/plain": [
       "         id  sentiment\n",
       "0  12311_10          1\n",
       "1    8348_2          0\n",
       "2    5828_4          1\n",
       "3    7186_2          0\n",
       "4   12128_7          1"
      ]
     },
     "execution_count": 13,
     "metadata": {},
     "output_type": "execute_result"
    }
   ],
   "source": [
    "pred.head()"
   ]
  },
  {
   "cell_type": "markdown",
   "metadata": {},
   "source": [
    "**Need to evaluate: we found that this produced results much better than chance, but underperformed Bag of Words by a few percentage points....**"
   ]
  },
  {
   "cell_type": "markdown",
   "metadata": {
    "collapsed": true
   },
   "source": [
    "Since the element-wise average of the vectors didn't produce spectacular results, perhaps we could do it in a more intelligent way? A standard way of weighting word vectors is to apply \"tf-idf\" weights, which measure how important a given word is within a given set of documents. One way to extract tf-idf weights in Python is by using scikit-learn's TfidfVectorizer, which has an interface similar to the CountVectorizer that we used in Part 1. However, when we tried weighting our word vectors in this way, we found no substantial improvement in performance."
   ]
  },
  {
   "cell_type": "markdown",
   "metadata": {},
   "source": [
    "## From Words to Paragraphs, Attemp2: Clustering\n",
    "Word2Vec Creates clusters of semantically related words, so another possible approach is to exploit the similarity of words within a cluster. Grouping in this way is known as **vector quantization.** We can find the centers of the word clusters using K-Means(slow) "
   ]
  },
  {
   "cell_type": "code",
   "execution_count": 10,
   "metadata": {
    "collapsed": false
   },
   "outputs": [
    {
     "name": "stdout",
     "output_type": "stream",
     "text": [
      "Time taken for K Means Clustering: 544.380803108 seconds\n"
     ]
    }
   ],
   "source": [
    "from sklearn.cluster import KMeans\n",
    "import time\n",
    "\n",
    "start=time.time()\n",
    "\n",
    "# Set 'K' (number clusters) to be 1/5th of the vocabulary size, or an avearge of 5 words per cluster\n",
    "word_vectors = model.syn0\n",
    "num_clusters = word_vectors.shape[0]/5\n",
    "\n",
    "#Initialize a k-means object and use it to extract centroids\n",
    "kmeans_clustering=KMeans(n_clusters=num_clusters)\n",
    "idx=kmeans_clustering.fit_predict(word_vectors)\n",
    "\n",
    "#Get the end time and print how long the process took\n",
    "end = time.time()\n",
    "elapsed = end-start\n",
    "print 'Time taken for K Means Clustering:',elapsed,'seconds'"
   ]
  },
  {
   "cell_type": "code",
   "execution_count": 19,
   "metadata": {
    "collapsed": false
   },
   "outputs": [],
   "source": [
    "# Create a Word/Index dictionary, mapping each vocabulary word to a cluster number\n",
    "word_centroid_map=dict(zip(model.index2word,idx))"
   ]
  },
  {
   "cell_type": "code",
   "execution_count": 32,
   "metadata": {
    "collapsed": false
   },
   "outputs": [
    {
     "name": "stdout",
     "output_type": "stream",
     "text": [
      "\n",
      "Cluster 0\n",
      "[u'turner', u'claudette', u'colbert']\n",
      "\n",
      "Cluster 1\n",
      "[u'humiliating']\n",
      "\n",
      "Cluster 2\n",
      "[u'freeze', u'butterfly', u'soaked', u'stained', u'piercing', u'bleed']\n",
      "\n",
      "Cluster 3\n",
      "[u'extend', u'generating', u'enhance']\n",
      "\n",
      "Cluster 4\n",
      "[u'uncertain', u'unflinching', u'imperfect', u'audacious', u'uncompromising', u'proposition', u'introspective', u'undeniable', u'exploitive', u'allegorical', u'alarming', u'overload', u'unrelenting', u'organic']\n",
      "\n",
      "Cluster 5\n",
      "[u'corky']\n",
      "\n",
      "Cluster 6\n",
      "[u'1959', u'pittsburgh', u'1961', u'korda', u'1964', u'1941']\n",
      "\n",
      "Cluster 7\n",
      "[u'millionaire', u'businessman', u'menjou', u'penniless', u'billionaire', u'tycoon', u'newly', u'banker', u'socialite', u'developer', u'wealthy']\n",
      "\n",
      "Cluster 8\n",
      "[u'shelves', u'tube', u'netflix', u'ebay', u'shelf']\n",
      "\n",
      "Cluster 9\n",
      "[u'hostile', u'liberal', u'implication', u'muslim', u'conservative', u'elitist', u'general', u'islamic', u'establishment', u'serbian', u'fascist', u'pro', u'bankrupt']\n"
     ]
    }
   ],
   "source": [
    "# For the first 10 clusters\n",
    "for cluster in xrange(0,10):\n",
    "    #Print the cluster number\n",
    "    print \"\\nCluster %d\" %cluster\n",
    "    #Find all of the words for that cluster number, and print them out\n",
    "    words =[]\n",
    "    for i in xrange(0,len(word_centroid_map.values())):\n",
    "        if (word_centroid_map.values()[i]==cluster):\n",
    "            words.append(word_centroid_map.keys()[i])\n",
    "    print words"
   ]
  },
  {
   "cell_type": "code",
   "execution_count": 33,
   "metadata": {
    "collapsed": true
   },
   "outputs": [],
   "source": [
    "def create_bag_of_centroids(wordlist,word_centroid_map):\n",
    "    #The numberof clusters is equal to the highest cluster index in the word/centroid map\n",
    "    num_centroids =max(word_centroid_map.values())+1\n",
    "    #Pre-allocate the bag of centroids vector (for speed)\n",
    "    bag_of_centroids=np.zeros(num_centroids,dtype='float32')\n",
    "    #Loop over the words in the review. If the word is in the vocabulary, find which clusters it belongs to, and increment that clusters count by 1\n",
    "    for word in wordlist:\n",
    "        if word in word_centroid_map:\n",
    "            index = word_centroid_map[word]\n",
    "            bag_of_centroids[index]+=1\n",
    "    #return the 'bag of centroid\n",
    "    return bag_of_centroids"
   ]
  },
  {
   "cell_type": "code",
   "execution_count": 35,
   "metadata": {
    "collapsed": false
   },
   "outputs": [],
   "source": [
    "#Pre-allocate an array for the training set bags of centroids (for speed)\n",
    "train_centroids=np.zeros((train['review'].size,num_clusters),dtype='float32')\n",
    "#Transform the training set reviews into bags of centroids\n",
    "counter =0\n",
    "for review in clean_train_reviews:\n",
    "    train_centroids[counter]=create_bag_of_centroids(review,word_centroid_map)\n",
    "    counter+=1\n",
    "#Repeat for test reviews\n",
    "counter =0\n",
    "test_centroids=np.zeros((test['review'].size,num_clusters),dtype='float32')\n",
    "for review in clean_test_reviews:\n",
    "    test_centroids[counter]=create_bag_of_centroids(review,word_centroid_map)\n",
    "    counter+=1"
   ]
  },
  {
   "cell_type": "code",
   "execution_count": 36,
   "metadata": {
    "collapsed": false
   },
   "outputs": [
    {
     "name": "stdout",
     "output_type": "stream",
     "text": [
      "Fitting a random forest to labeled training data...\n"
     ]
    }
   ],
   "source": [
    "#Fit a random forest and extract predictions\n",
    "forest =RandomForestClassifier(n_estimators=100)\n",
    "\n",
    "#Fitting the forest may take a few mins\n",
    "print \"Fitting a random forest to labeled training data...\"\n",
    "forest =forest.fit(train_centroids,train['sentiment'])\n",
    "result = forest.predict(test_centroids)\n",
    "\n",
    "#Write the test results\n",
    "output =pd.DataFrame(data={'id':test['id'],'sentiment':result})\n",
    "output.to_csv('BagofCentroids.csv',index=False,quoting=3)"
   ]
  },
  {
   "cell_type": "markdown",
   "metadata": {},
   "source": [
    "**Need to evaluate: The code above gives about the same (or slighty worse) results compared to the Bag of Words in Part1**"
   ]
  },
  {
   "cell_type": "code",
   "execution_count": null,
   "metadata": {
    "collapsed": true
   },
   "outputs": [],
   "source": []
  }
 ],
 "metadata": {
  "anaconda-cloud": {},
  "kernelspec": {
   "display_name": "Python [Root]",
   "language": "python",
   "name": "Python [Root]"
  },
  "language_info": {
   "codemirror_mode": {
    "name": "ipython",
    "version": 2
   },
   "file_extension": ".py",
   "mimetype": "text/x-python",
   "name": "python",
   "nbconvert_exporter": "python",
   "pygments_lexer": "ipython2",
   "version": "2.7.12"
  }
 },
 "nbformat": 4,
 "nbformat_minor": 0
}
